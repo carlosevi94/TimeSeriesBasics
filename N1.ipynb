{
 "cells": [
  {
   "attachments": {},
   "cell_type": "markdown",
   "metadata": {},
   "source": [
    "# Series Temporales\n",
    "\n",
    "Autor: Carlos Sevilla Barceló\n",
    "\n",
    "__Indice__\n",
    "\n",
    "1. Un poco de teoría\n",
    "2. Estacionario\n",
    "    1. Test\n",
    "    2. Transformaciones\n",
    "3. ACF y PACF\n",
    "4. Modelos clásicos\n",
    "    1. AR\n",
    "    2. MA\n",
    "    3. ARMA\n",
    "    4. ARIMA\n",
    "    5. Otros\n",
    "5. Modelos ML\n",
    "    1. Introducción\n",
    "    1. Transformacion\n",
    "    2. Ejemplos\n",
    "\n",
    "\n",
    "\n"
   ]
  },
  {
   "cell_type": "code",
   "execution_count": null,
   "metadata": {},
   "outputs": [],
   "source": [
    "import pandas as pd\n",
    "import numpy as np \n",
    "import matplotlib.pyplot as plt\n",
    "import statsmodels.api as sm"
   ]
  },
  {
   "attachments": {},
   "cell_type": "markdown",
   "metadata": {},
   "source": [
    "# Teoría "
   ]
  },
  {
   "attachments": {},
   "cell_type": "markdown",
   "metadata": {},
   "source": [
    "Antes de empezar a trabajar con modelos de series de tiempo es importante entender algunos conceptos clave:\n",
    "\n",
    "Una serie temporal es una colección de observaciones de una variable o conjunto de variables, ordenadas en el tiempo y espaciadas uniformemente. Las series temporales son utilizadas en muchos campos, incluyendo la economía, la ingeniería, las ciencias sociales y la meteorología, para analizar y predecir patrones y tendencias en los datos.\n",
    "\n",
    "Una serie temporal tiene varias propiedades importantes que deben tenerse en cuenta al analizarla:\n",
    "\n",
    "* __Tendencia__: una serie temporal puede tener una tendencia a largo plazo, que es una dirección general en la que los datos se mueven. Puede ser ascendente o descendente y puede ser lineal o no lineal.\n",
    "\n",
    "* __Estacionalidad__: las series temporales pueden tener patrones estacionales o cíclicos, lo que significa que los datos varían según el momento del año o del ciclo de negocio. La estacionalidad puede ser aditiva (los datos aumentan o disminuyen en la misma cantidad en cada ciclo) o multiplicativa (los datos aumentan o disminuyen en un factor constante en cada ciclo).\n",
    "\n",
    "* __Ciclos__: las series temporales pueden tener ciclos más largos que la estacionalidad, que pueden durar varios años. Por ejemplo, las recesiones económicas y las expansiones pueden ser ciclos que se repiten en una serie temporal.\n",
    "\n",
    "* __Ruido__: las series temporales a menudo tienen una componente de ruido o variación aleatoria, que se debe a factores impredecibles que no se pueden modelar fácilmente. El ruido puede dificultar la identificación de patrones y tendencias en los datos.\n",
    "\n",
    "* __Autocorrelación__: la autocorrelación se refiere a la relación entre los valores de una variable en diferentes momentos en el tiempo. Si una serie temporal tiene una alta autocorrelación, significa que los valores están fuertemente relacionados con los valores anteriores y posteriores. La autocorrelación puede ser útil para identificar patrones en la serie temporal.\n",
    "\n",
    "* __Estacionariedad__: una serie temporal se considera estacionaria si sus propiedades estadísticas no cambian con el tiempo. Esto significa que la media, la varianza y la autocorrelación son constantes a lo largo del tiempo. La estacionariedad es importante para aplicar ciertos modelos estadísticos y para hacer predicciones precisas en la serie temporal."
   ]
  },
  {
   "cell_type": "code",
   "execution_count": null,
   "metadata": {},
   "outputs": [],
   "source": [
    "sm.datasets.sunspots.load_pandas().data"
   ]
  },
  {
   "cell_type": "code",
   "execution_count": null,
   "metadata": {},
   "outputs": [],
   "source": [
    "sunspots = sm.datasets.sunspots.load_pandas().data.dropna()\n",
    "\n",
    "fig, ax = plt.subplots(figsize=(16, 7))\n",
    "ax.plot(sunspots['YEAR'],sunspots['SUNACTIVITY'])\n",
    "ax.set_xlabel('Year')\n",
    "ax.set_ylabel('Sun activity')\n",
    "fig.autofmt_xdate()\n",
    "plt.tight_layout()"
   ]
  },
  {
   "cell_type": "code",
   "execution_count": null,
   "metadata": {},
   "outputs": [],
   "source": [
    "co2 = sm.datasets.co2.load_pandas().data.dropna()\n",
    "\n",
    "fig, ax = plt.subplots(figsize=(16, 7))\n",
    "ax.plot(co2['co2'])\n",
    "ax.set_xlabel('Time')\n",
    "ax.set_ylabel('CO2 concentration (ppmw)')\n",
    "fig.autofmt_xdate()\n",
    "plt.tight_layout()"
   ]
  },
  {
   "attachments": {},
   "cell_type": "markdown",
   "metadata": {},
   "source": [
    "# Estacionariedad\n",
    "\n",
    "La estacionariedad es una propiedad importante en el análisis de series temporales. Una serie temporal se considera estacionaria si sus propiedades estadísticas no cambian con el tiempo. Esto significa que la media, la varianza y la autocorrelación son constantes a lo largo del tiempo.\n",
    "\n",
    "En otras palabras, si una serie temporal es estacionaria, entonces su patrón general, incluyendo su nivel medio y su variabilidad, permanece constante a lo largo del tiempo. Esto facilita el modelado y la predicción de la serie temporal, ya que se pueden utilizar técnicas estadísticas simples y los resultados obtenidos en una parte de la serie temporal pueden ser extrapolados a otras partes.\n",
    "\n",
    "![alt text](img/stationary.webp \"Title\")\n",
    "\n",
    "Es importante destacar que la estacionariedad es una propiedad matemática y no depende de la interpretación del problema o de la naturaleza de los datos. Es posible que una serie temporal tenga una tendencia o un patrón estacional y aún así ser estacionaria en términos estadísticos.\n",
    "\n",
    "Por lo tanto, al analizar una serie temporal, es importante determinar si es estacionaria o no, ya que esto puede tener implicaciones importantes en la elección de los métodos de análisis y en la precisión de las predicciones que se pueden hacer.\n",
    "\n",
    "Algunos modelos estadísticos exigen que la serie a modelar cumpla la condición de estacionariedad, con lo que antes de trabajar con estos modelos de series de tiempo es importante asegurarse de que la serie de tiempo sea estacionaria. En esta sección exploraremos dos formas de comprobar si una serie de tiempo es estacionaria y cómo transformar la serie de tiempo en caso de que no lo sea.\n",
    "\n",
    "## Tests\n",
    "\n",
    "Para comprobar si una serie de tiempo es estacionaria podemos utilizar el test de Dickey-Fuller aumentado (ADF) y Kwiatkowski-Phillips-Schmidt-Shin (KPSS)\n",
    "\n",
    "### ADF \n",
    "Este test comprueba si la serie de tiempo tiene raíces unitarias, lo que implica que la serie de tiempo no es estacionaria.\n",
    "\n",
    "La intuición que subyace a una prueba de raíz unitaria es que determina hasta qué punto una serie temporal está definida por una tendencia.\n",
    "\n",
    "Existen varias pruebas de raíz unitaria y la de Dickey-Fuller aumentada puede ser una de las más utilizadas. Utiliza un modelo autorregresivo y optimiza un criterio de información a través de múltiples valores de retardo diferentes.\n",
    "\n",
    "La hipótesis nula de la prueba es que la serie temporal puede estar representada por una raíz unitaria, que no es estacionaria (tiene alguna estructura dependiente del tiempo). La hipótesis alternativa (que rechaza la hipótesis nula) es que la serie temporal es estacionaria.\n",
    "\n",
    "* Hipótesis nula (H0): Si no se rechaza, sugiere que la serie temporal tiene una raíz unitaria, lo que significa que __no es estacionaria__. Tiene una estructura dependiente del tiempo.\n",
    "* Hipótesis alternativa (H1): Si se rechaza la hipótesis nula, sugiere que la serie temporal no tiene una raíz unitaria, lo que significa que __si es estacionaria__. No tiene estructura dependiente del tiempo.\n",
    "\n",
    "Interpretamos este resultado utilizando el valor p de la prueba. Un valor p inferior a un umbral (como el 5% o el 1%) indica que se rechaza la hipótesis nula (estacionariedad); de lo contrario, un valor p superior al umbral indica que no se rechaza la hipótesis nula (no estacionariedad).\n",
    "\n",
    "* Valor p > 0,05: No se rechaza la hipótesis nula (H0), los datos tienen una raíz unitaria y no son estacionarios.\n",
    "* Valor p <= 0,05: Rechazamos la hipótesis nula (H0), los datos no tienen una raíz unitaria y son estacionarios."
   ]
  },
  {
   "cell_type": "code",
   "execution_count": null,
   "metadata": {},
   "outputs": [],
   "source": [
    "from statsmodels.tsa.stattools import adfuller"
   ]
  },
  {
   "cell_type": "code",
   "execution_count": null,
   "metadata": {},
   "outputs": [],
   "source": [
    "# Test ADF para sunspot\n",
    "result = adfuller(sunspots['SUNACTIVITY'])\n",
    "\n",
    "print('ADF Statistic: %f' % result[0])\n",
    "print('p-value: %f' % result[1])\n",
    "print('Critical Values:')\n",
    "for key, value in result[4].items():\n",
    " print('\\t%s: %.3f' % (key, value))\n"
   ]
  },
  {
   "cell_type": "code",
   "execution_count": null,
   "metadata": {},
   "outputs": [],
   "source": [
    "# Test ADF para CO2\n",
    "result = adfuller(co2['co2'])\n",
    "\n",
    "print('ADF Statistic: %f' % result[0])\n",
    "print('p-value: %f' % result[1])\n",
    "print('Critical Values:')\n",
    "for key, value in result[4].items():\n",
    " print('\\t%s: %.3f' % (key, value))"
   ]
  },
  {
   "attachments": {},
   "cell_type": "markdown",
   "metadata": {},
   "source": [
    "### KPSS"
   ]
  },
  {
   "attachments": {},
   "cell_type": "markdown",
   "metadata": {},
   "source": [
    "El KPSS es otra prueba para comprobar la estacionariedad de una serie temporal. Las hipótesis nula y alternativa de la prueba KPSS son opuestas a las de la prueba ADF.\n",
    "\n",
    "* Hipótesis nula (H0): El ciclo es estacionario en cuanto a la tendencia.\n",
    "* Hipótesis alternativa (H1): La serie tiene una raíz unitaria (la serie no es estacionaria)."
   ]
  },
  {
   "cell_type": "code",
   "execution_count": null,
   "metadata": {},
   "outputs": [],
   "source": [
    "from statsmodels.tsa.stattools import kpss"
   ]
  },
  {
   "cell_type": "code",
   "execution_count": null,
   "metadata": {},
   "outputs": [],
   "source": [
    "result = kpss(sunspots['SUNACTIVITY'])\n",
    "\n",
    "print('KPSS Test: %f' % result[0])\n",
    "print('p-value: %f' % result[1])\n",
    "print('Critical Values:')\n",
    "for key, value in result[3].items():\n",
    " print('\\t%s: %.3f' % (key, value))"
   ]
  },
  {
   "cell_type": "code",
   "execution_count": null,
   "metadata": {},
   "outputs": [],
   "source": [
    "result"
   ]
  },
  {
   "cell_type": "code",
   "execution_count": null,
   "metadata": {},
   "outputs": [],
   "source": [
    "result = kpss(co2)\n",
    "\n",
    "print('KPSS Test: %f' % result[0])\n",
    "print('p-value: %f' % result[1])\n",
    "print('Critical Values:')\n",
    "for key, value in result[3].items():\n",
    " print('\\t%s: %.3f' % (key, value))"
   ]
  },
  {
   "attachments": {},
   "cell_type": "markdown",
   "metadata": {},
   "source": [
    "### Que hacer cuando los test difieren\n",
    "\n",
    "\n",
    "Siempre es mejor aplicar ambas pruebas para asegurarse de que la serie es realmente estacionaria. Los posibles resultados de la aplicación de estas pruebas de estacionariedad son los siguientes:\n",
    "\n",
    "* Caso 1: Ambas pruebas concluyen que la serie no es estacionaria - La serie no es estacionaria\n",
    "* Caso 2: Ambas pruebas concluyen que la serie es estacionaria - La serie es estacionaria\n",
    "* Caso 3: El KPSS indica estacionariedad y el ADF indica no estacionariedad - La serie es estacionaria por tendencia. Es necesario eliminar la tendencia para que la serie sea estacionaria estricta. Se comprueba la estacionariedad de la serie sin tendencia.\n",
    "* Caso 4: KPSS indica no estacionariedad y ADF indica estacionariedad - La serie es estacionaria por diferencia. Se utilizará la diferenciación para hacer estacionaria la serie. Se comprueba la estacionariedad de la serie diferenciada.\n",
    "\n"
   ]
  },
  {
   "attachments": {},
   "cell_type": "markdown",
   "metadata": {},
   "source": [
    "## Transformaciones\n",
    "\n",
    "Si una serie de tiempo no es estacionaria, podemos aplicar transformaciones para hacerla estacionaria. Algunas de las transformaciones más comunes son:\n",
    "\n",
    "* Diferenciación: restar la observación actual de la observación anterior para obtener la diferencia. Si es necesario, se pueden aplicar múltiples diferenciaciones hasta que la serie de tiempo sea estacionaria.\n",
    "* Eliminación de la tendencia.\n",
    "* Transformación logarítmica: tomar el logaritmo de la serie de tiempo para suavizar las fluctuaciones.\n",
    "* Transformación de Box-Cox: una transformación que puede ser utilizada para estabilizar la varianza de la serie de tiempo."
   ]
  },
  {
   "attachments": {},
   "cell_type": "markdown",
   "metadata": {},
   "source": [
    "### Diferenciación"
   ]
  },
  {
   "cell_type": "code",
   "execution_count": null,
   "metadata": {},
   "outputs": [],
   "source": [
    "co2['co2'].diff()"
   ]
  },
  {
   "cell_type": "markdown",
   "metadata": {},
   "source": [
    "Que es el equivalente a este código"
   ]
  },
  {
   "cell_type": "code",
   "execution_count": null,
   "metadata": {},
   "outputs": [],
   "source": [
    "co2['co2'] - co2['co2'].shift(1)"
   ]
  },
  {
   "attachments": {},
   "cell_type": "markdown",
   "metadata": {},
   "source": [
    "### Eliminar la tendencia\n",
    "\n",
    "Mediante una descomposición STL, puedes obtener el compontente de tendencia de una serie temporal y restarselo. "
   ]
  },
  {
   "cell_type": "code",
   "execution_count": null,
   "metadata": {},
   "outputs": [],
   "source": [
    "from statsmodels.tsa.seasonal import seasonal_decompose\n",
    "\n",
    "# Additive Decomposition\n",
    "result_add = seasonal_decompose(sunspots['SUNACTIVITY'],period=11, model = 'additive')\n",
    "\n",
    "# Plot\n",
    "plt.rcParams.update({'figure.figsize': (6,6)})\n",
    "result_add.plot()"
   ]
  },
  {
   "cell_type": "code",
   "execution_count": null,
   "metadata": {},
   "outputs": [],
   "source": [
    "(sunspots['SUNACTIVITY'] - result_add.trend).plot()"
   ]
  },
  {
   "attachments": {},
   "cell_type": "markdown",
   "metadata": {},
   "source": [
    "### Transformación Logaritmica"
   ]
  },
  {
   "cell_type": "code",
   "execution_count": null,
   "metadata": {},
   "outputs": [],
   "source": [
    "co2['co2'].plot()"
   ]
  },
  {
   "cell_type": "code",
   "execution_count": null,
   "metadata": {},
   "outputs": [],
   "source": [
    "np.log(co2['co2']).plot()"
   ]
  },
  {
   "attachments": {},
   "cell_type": "markdown",
   "metadata": {},
   "source": [
    "# ACF y PACF\n",
    "\n",
    "Los diagramas ACF (Autocorrelation Function) y PACF (Partial Autocorrelation Function) son herramientas comúnmente utilizadas en el análisis de series de tiempo para determinar la presencia de autocorrelación en los datos.\n",
    "\n",
    "El diagrama ACF muestra la correlación entre una serie de tiempo y sus valores anteriores, es decir, la correlación entre cada valor y los valores precedentes a él. El eje horizontal del diagrama ACF representa el número de retrasos (lags) y el eje vertical representa el valor de correlación. Un pico en el diagrama ACF en el lag k indica una fuerte correlación entre los valores de la serie de tiempo separados por k períodos de tiempo.\n",
    "\n",
    "Por otro lado, el diagrama PACF muestra la correlación entre una serie de tiempo y sus valores anteriores, teniendo en cuenta solo la influencia directa de los valores en los lags intermedios. En otras palabras, el diagrama PACF muestra la correlación entre dos valores de la serie de tiempo que están separados por k períodos, teniendo en cuenta solo los valores en los lags intermedios. Un pico en el diagrama PACF en el lag k indica que hay una correlación significativa entre los valores de la serie de tiempo separados por k períodos, teniendo en cuenta solo los valores en los lags intermedios.\n",
    "\n",
    "El uso principal de estos diagramas es determinar la estructura de un modelo de serie de tiempo adecuado para los datos. Al interpretar los picos en los diagramas ACF y PACF, se pueden identificar patrones en los datos que sugieren la presencia de estacionalidad, tendencias, ciclos y otros componentes importantes de la serie de tiempo. Esta información puede ser útil para seleccionar un modelo de serie de tiempo que pueda predecir con precisión los valores futuros de la serie de tiempo."
   ]
  },
  {
   "cell_type": "code",
   "execution_count": null,
   "metadata": {},
   "outputs": [],
   "source": [
    "from statsmodels.graphics.tsaplots import plot_acf, plot_pacf"
   ]
  },
  {
   "cell_type": "code",
   "execution_count": null,
   "metadata": {},
   "outputs": [],
   "source": [
    "fig, ax = plt.subplots(figsize=(7, 3))\n",
    "plot_acf(co2['co2'],ax=ax)\n",
    "plt.show()"
   ]
  },
  {
   "cell_type": "code",
   "execution_count": null,
   "metadata": {},
   "outputs": [],
   "source": [
    "fig, ax = plt.subplots(figsize=(7, 3))\n",
    "plot_pacf(co2['co2'],ax=ax)\n",
    "plt.show()"
   ]
  },
  {
   "attachments": {},
   "cell_type": "markdown",
   "metadata": {},
   "source": [
    "## Interpretación\n",
    "\n",
    "Para obtener el orden de los modelo de tipo ARIMA, seguiremos esta tabla. \n",
    "\n",
    "| | AR(p)| MA(q) | ARMA(p,q) |\n",
    "|---|---|---|---|\n",
    "| ACF | varios puntos con coef>0 decayendo | 0 excepto los `q` primeros | varios puntos con coef>0 decayendo |\n",
    "| PCAF | 0 excepto los `p` primeros | varios puntos con coef>0 | varios puntos con coef>0 |\n",
    "\n",
    "Observando los correlogramas, buscaremos `el corte` de la serie. Esto lo haremos buscando el primer retardo que no se considere significativo (que esté dentro de la región de  no significancia). Lo que se encuentre por encima de estas bandas, se puede considerar significante, y por debajo, a efectos prácticos equivale a 0. \n",
    "\n",
    "El valor de `p` o `q` será el valor del último retraso significativo (postivo o negativo)\n"
   ]
  },
  {
   "attachments": {},
   "cell_type": "markdown",
   "metadata": {},
   "source": [
    "### Ejemplo: manchas solares. "
   ]
  },
  {
   "cell_type": "code",
   "execution_count": null,
   "metadata": {},
   "outputs": [],
   "source": [
    "# Diferenciamos la serie para que sea estacionaria\n",
    "sunspots_diff = sunspots['SUNACTIVITY'].diff().dropna()"
   ]
  },
  {
   "cell_type": "code",
   "execution_count": null,
   "metadata": {},
   "outputs": [],
   "source": [
    "fig, ax = plt.subplots(figsize=(7, 3))\n",
    "plot_acf(sunspots_diff,ax=ax)\n",
    "plt.show()"
   ]
  },
  {
   "cell_type": "code",
   "execution_count": null,
   "metadata": {},
   "outputs": [],
   "source": [
    "fig, ax = plt.subplots(figsize=(7, 3))\n",
    "plot_pacf(sunspots_diff,ax=ax)\n",
    "plt.show()"
   ]
  },
  {
   "attachments": {},
   "cell_type": "markdown",
   "metadata": {},
   "source": [
    "Como en en el ACF vemos el corte en el retraso 2, su valor de `q` será = 1, mientras que en el PACF vemos que el corte está en el retraso 9, con lo que su valor de `p` será = 8."
   ]
  },
  {
   "attachments": {},
   "cell_type": "markdown",
   "metadata": {},
   "source": [
    "### Ejemplo: co2"
   ]
  },
  {
   "cell_type": "code",
   "execution_count": null,
   "metadata": {},
   "outputs": [],
   "source": [
    "co2_diff = co2['co2'].diff().dropna()"
   ]
  },
  {
   "cell_type": "code",
   "execution_count": null,
   "metadata": {},
   "outputs": [],
   "source": [
    "fig, ax = plt.subplots(figsize=(7, 5))\n",
    "plot_acf(co2_diff,ax=ax)\n",
    "plt.show()"
   ]
  },
  {
   "cell_type": "code",
   "execution_count": null,
   "metadata": {},
   "outputs": [],
   "source": [
    "fig, ax = plt.subplots(figsize=(7, 5))\n",
    "plot_pacf(co2_diff,ax=ax)\n",
    "plt.show()"
   ]
  },
  {
   "attachments": {},
   "cell_type": "markdown",
   "metadata": {},
   "source": [
    "Como en en el ACF vemos el corte en el retraso 9, su valor de `q` será = 8, mientras que en el PACF vemos que el corte está en el retraso 6, con lo que su valor de `p` será = 5.\n",
    "\n",
    "Para más ejemplos de interpretación, consulta [este artículo](https://enrdados.netlify.app/post/series-temporales-con-arima-ii/)."
   ]
  },
  {
   "attachments": {},
   "cell_type": "markdown",
   "metadata": {},
   "source": [
    "# Modelos "
   ]
  },
  {
   "attachments": {},
   "cell_type": "markdown",
   "metadata": {},
   "source": [
    "## AR - Auto Regresivos\n",
    "\n",
    "El modelo autorregresivo (AR) es un modelo estadístico utilizado para analizar y predecir valores en una serie de tiempo. En este modelo, la variable dependiente (o la serie de tiempo) se regresa en sí misma con retrasos (también llamados lags) como variables independientes.\n",
    "\n",
    "Un modelo autorregresivo de orden p (AR(p)) se define como:\n",
    "\n",
    "y_t = c + φ_1 y_{t-1} + φ_2 y_{t-2} + ... + φ_p y_{t-p} + ε_t\n",
    "\n",
    "Donde:\n",
    "\n",
    "- y_t es la variable dependiente en el tiempo t.\n",
    "- c es una constante.\n",
    "- φ_1 a φ_p son los coeficientes autorregresivos que miden la relación entre la variable dependiente en el tiempo actual y sus valores pasados.\n",
    "- ε_t es el término de error aleatorio en el tiempo t.\n",
    "\n",
    "El término \"orden p\" hace referencia a la cantidad de lags utilizados en el modelo. El modelo AR(p) es utilizado para series de tiempo que exhiben cierto grado de autocorrelación, es decir, cuando el valor de la serie en un momento dado está correlacionado con sus valores en momentos anteriores.\n",
    "\n",
    "Para ajustar el modelo AR(p), se utilizan técnicas de estimación de parámetros para determinar los valores de los coeficientes φ_1 a φ_p y la constante c. Luego, el modelo se puede utilizar para hacer pronósticos sobre los valores futuros de la serie de tiempo."
   ]
  },
  {
   "attachments": {},
   "cell_type": "markdown",
   "metadata": {},
   "source": [
    "Un modelo AR(p) y un modelo ARIMA(p,0,0) son iguales."
   ]
  },
  {
   "cell_type": "code",
   "execution_count": null,
   "metadata": {},
   "outputs": [],
   "source": [
    "from statsmodels.tsa.ar_model import AutoReg\n",
    "\n",
    "model = AutoReg(sunspots_diff, lags=1)\n",
    "resultados = model.fit()"
   ]
  },
  {
   "cell_type": "code",
   "execution_count": null,
   "metadata": {},
   "outputs": [],
   "source": [
    "print(resultados.summary())"
   ]
  },
  {
   "cell_type": "code",
   "execution_count": null,
   "metadata": {},
   "outputs": [],
   "source": [
    "predicciones = resultados.predict(start=len(sunspots_diff), end=len(sunspots_diff)+10)"
   ]
  },
  {
   "cell_type": "code",
   "execution_count": null,
   "metadata": {},
   "outputs": [],
   "source": [
    "plt.plot(sunspots_diff[-30:])\n",
    "plt.plot(predicciones)\n",
    "plt.show()"
   ]
  },
  {
   "attachments": {},
   "cell_type": "markdown",
   "metadata": {},
   "source": [
    "## MA - Medias móviles\n",
    "\n",
    "El modelo de media móvil (MA) es otro modelo estadístico utilizado para analizar y predecir valores en una serie de tiempo. A diferencia del modelo AR, el modelo MA no utiliza valores pasados de la variable dependiente como variables independientes. En su lugar, utiliza un término de error aleatorio en el modelo que se deriva de una media móvil de los errores de pronóstico previos.\n",
    "\n",
    "Un modelo de media móvil de orden q (MA(q)) se define como:\n",
    "\n",
    "y_t = c + ε_t + θ_1 ε_{t-1} + θ_2 ε_{t-2} + ... + θ_q ε_{t-q}\n",
    "\n",
    "Donde:\n",
    "\n",
    "- y_t es la variable dependiente en el tiempo t.\n",
    "- c es una constante.\n",
    "- ε_t es el término de error aleatorio en el tiempo t.\n",
    "- θ_1 a θ_q son los coeficientes de media móvil que miden la relación entre el término de error aleatorio actual y los errores de pronóstico anteriores.\n",
    "\n",
    "El término \"orden q\" hace referencia a la cantidad de errores de pronóstico previos utilizados en el modelo. El modelo MA(q) es utilizado para series de tiempo que exhiben cierto grado de heterocedasticidad (es decir, variación no constante en la varianza), lo que hace que los modelos de regresión lineal ordinarios no sean apropiados.\n",
    "\n",
    "Para ajustar el modelo MA(q), se utilizan técnicas de estimación de parámetros para determinar los valores de los coeficientes θ_1 a θ_q y la constante c. Luego, el modelo se puede utilizar para hacer pronósticos sobre los valores futuros de la serie de tiempo.\n",
    "\n",
    "Un modelo MA(q) y un modelo ARIMA(0,0,q) son iguales."
   ]
  },
  {
   "cell_type": "code",
   "execution_count": null,
   "metadata": {},
   "outputs": [],
   "source": [
    "from statsmodels.tsa.arima.model import ARIMA\n",
    "\n",
    "model = ARIMA(sunspots_diff, order=(0,0,8))\n",
    "resultados = model.fit()"
   ]
  },
  {
   "cell_type": "code",
   "execution_count": null,
   "metadata": {},
   "outputs": [],
   "source": [
    "print(resultados.summary())"
   ]
  },
  {
   "cell_type": "code",
   "execution_count": null,
   "metadata": {},
   "outputs": [],
   "source": [
    "predicciones = resultados.predict(start=len(sunspots_diff), end=len(sunspots_diff)+10)"
   ]
  },
  {
   "cell_type": "code",
   "execution_count": null,
   "metadata": {},
   "outputs": [],
   "source": [
    "plt.plot(sunspots_diff[-30:])\n",
    "plt.plot(predicciones)\n",
    "plt.show()"
   ]
  },
  {
   "attachments": {},
   "cell_type": "markdown",
   "metadata": {},
   "source": [
    "## ARMA - Auto Regresivo con Media movil\n",
    "\n",
    "El modelo autoregresivo de media móvil (ARMA) es un modelo estadístico que combina las características del modelo autoregresivo (AR) y el modelo de media móvil (MA) para analizar y predecir valores en una serie de tiempo. El modelo ARMA se utiliza para series de tiempo que exhiben tanto la autocorrelación (dependencia entre los valores pasados de la serie de tiempo) como la heterocedasticidad (variación no constante en la varianza).\n",
    "\n",
    "El modelo ARMA(p, q) se define como:\n",
    "\n",
    "y_t = c + φ_1 y_{t-1} + φ_2 y_{t-2} + ... + φ_p y_{t-p} + ε_t + θ_1 ε_{t-1} + θ_2 ε_{t-2} + ... + θ_q ε_{t-q}\n",
    "\n",
    "Donde:\n",
    "\n",
    "- y_t es la variable dependiente en el tiempo t.\n",
    "- c es una constante.\n",
    "- φ_1 a φ_p son los coeficientes autoregresivos que miden la relación entre la variable dependiente actual y los valores pasados de la serie de tiempo.\n",
    "- ε_t es el término de error aleatorio en el tiempo t.\n",
    "- θ_1 a θ_q son los coeficientes de media móvil que miden la relación entre el término de error aleatorio actual y los errores de pronóstico anteriores.\n",
    "\n",
    "El término \"orden p\" se refiere a la cantidad de valores pasados de la serie de tiempo que se incluyen en el modelo AR, mientras que el término \"orden q\" se refiere a la cantidad de errores de pronóstico anteriores que se incluyen en el modelo MA.\n",
    "\n",
    "Para ajustar un modelo ARMA, se utilizan técnicas de estimación de parámetros para determinar los valores de los coeficientes φ_1 a φ_p, θ_1 a θ_q y la constante c. Luego, el modelo se puede utilizar para hacer predicciones sobre los valores futuros de la serie de tiempo.\n",
    "\n",
    "Un modelo ARMA(p,q) y un modelo ARIMA(p,0,q) son iguales"
   ]
  },
  {
   "cell_type": "code",
   "execution_count": null,
   "metadata": {},
   "outputs": [],
   "source": []
  },
  {
   "cell_type": "code",
   "execution_count": null,
   "metadata": {},
   "outputs": [],
   "source": [
    "from statsmodels.tsa.arima.model import ARIMA\n",
    "\n",
    "model = ARIMA(sunspots_diff, order=(1,0,8))\n",
    "resultados = model.fit()"
   ]
  },
  {
   "cell_type": "code",
   "execution_count": null,
   "metadata": {},
   "outputs": [],
   "source": [
    "print(resultados.summary())"
   ]
  },
  {
   "cell_type": "code",
   "execution_count": null,
   "metadata": {},
   "outputs": [],
   "source": [
    "predicciones = resultados.predict(start=len(sunspots_diff), end=len(sunspots_diff)+10)"
   ]
  },
  {
   "cell_type": "code",
   "execution_count": null,
   "metadata": {},
   "outputs": [],
   "source": [
    "plt.plot(sunspots_diff[-30:])\n",
    "plt.plot(predicciones)\n",
    "plt.show()"
   ]
  },
  {
   "attachments": {},
   "cell_type": "markdown",
   "metadata": {},
   "source": [
    "# Referencias y bibliografía\n",
    "\n",
    "https://towardsdatascience.com/achieving-stationarity-with-time-series-data-abd59fd8d5a0\n",
    "\n",
    "https://machinelearningmastery.com/time-series-data-stationary-python/"
   ]
  }
 ],
 "metadata": {
  "kernelspec": {
   "display_name": "Python 3",
   "language": "python",
   "name": "python3"
  },
  "language_info": {
   "codemirror_mode": {
    "name": "ipython",
    "version": 3
   },
   "file_extension": ".py",
   "mimetype": "text/x-python",
   "name": "python",
   "nbconvert_exporter": "python",
   "pygments_lexer": "ipython3",
   "version": "3.8.10"
  },
  "orig_nbformat": 4,
  "vscode": {
   "interpreter": {
    "hash": "31f2aee4e71d21fbe5cf8b01ff0e069b9275f58929596ceb00d14d90e3e16cd6"
   }
  }
 },
 "nbformat": 4,
 "nbformat_minor": 2
}
